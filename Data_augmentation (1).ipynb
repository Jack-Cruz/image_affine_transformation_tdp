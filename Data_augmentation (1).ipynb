{
  "cells": [
    {
      "cell_type": "markdown",
      "metadata": {
        "id": "cU1bmydkjnFj"
      },
      "source": [
        "# Rotate images - Geeks for Geeks\n",
        "Enlace del artículo [enlace](https://www.geeksforgeeks.org/how-to-rotate-an-image-using-python/)"
      ]
    },
    {
      "cell_type": "markdown",
      "metadata": {
        "id": "rVTw41O8mJef"
      },
      "source": [
        "**Reading images with Pillow library**"
      ]
    },
    {
      "cell_type": "code",
      "execution_count": 1,
      "metadata": {
        "colab": {
          "base_uri": "https://localhost:8080/",
          "height": 35
        },
        "id": "thSza-FWlVKs",
        "outputId": "4f7258ed-d351-4c5b-f71d-165fa77befd9"
      },
      "outputs": [
        {
          "data": {
            "text/plain": [
              "'9.2.0'"
            ]
          },
          "execution_count": 1,
          "metadata": {},
          "output_type": "execute_result"
        }
      ],
      "source": [
        "# import the Python Image\n",
        "# processing Library\n",
        "import PIL\n",
        "from PIL import Image\n",
        "\n",
        "PIL.__version__"
      ]
    },
    {
      "cell_type": "code",
      "execution_count": 3,
      "metadata": {
        "id": "lE21nuoTj3U3"
      },
      "outputs": [
        {
          "name": "stderr",
          "output_type": "stream",
          "text": [
            "C:\\Users\\jackc\\AppData\\Local\\Temp\\ipykernel_5476\\3293862537.py:10: DeprecationWarning: ROTATE_90 is deprecated and will be removed in Pillow 10 (2023-07-01). Use Transpose.ROTATE_90 instead.\n",
            "  rotated_image2 = Original_Image.transpose(Image.ROTATE_90)\n"
          ]
        }
      ],
      "source": [
        "# Giving The Original image Directory\n",
        "# Specified\n",
        "Original_Image = Image.open(\"./left.png\")\n",
        "\n",
        "# Rotate Image By 180 Degree\n",
        "rotated_image1 = Original_Image.rotate(180)\n",
        "\n",
        "# This is Alternative Syntax To Rotate\n",
        "# The Image\n",
        "rotated_image2 = Original_Image.transpose(Image.ROTATE_90)\n",
        "\n",
        "# This Will Rotate Image By 60 Degree\n",
        "rotated_image3 = Original_Image.rotate(60)\n",
        "\n",
        "rotated_image1.show()\n",
        "rotated_image2.show()\n",
        "rotated_image3.show()"
      ]
    },
    {
      "cell_type": "markdown",
      "metadata": {
        "id": "5kyYw-DRj8Be"
      },
      "source": [
        "**Reading images with opencv library**"
      ]
    },
    {
      "cell_type": "code",
      "execution_count": null,
      "metadata": {
        "colab": {
          "base_uri": "https://localhost:8080/",
          "height": 408
        },
        "id": "Nn7odZYhmVsk",
        "outputId": "20e77c02-f4b6-4824-fad6-eab66856b707"
      },
      "outputs": [
        {
          "ename": "DisabledFunctionError",
          "evalue": "ignored",
          "output_type": "error",
          "traceback": [
            "\u001b[0;31m---------------------------------------------------------------------------\u001b[0m",
            "\u001b[0;31mDisabledFunctionError\u001b[0m                     Traceback (most recent call last)",
            "\u001b[0;32m<ipython-input-6-e94f690f5d54>\u001b[0m in \u001b[0;36m<module>\u001b[0;34m\u001b[0m\n\u001b[1;32m     11\u001b[0m \u001b[0;31m# display the image using OpenCV of\u001b[0m\u001b[0;34m\u001b[0m\u001b[0;34m\u001b[0m\u001b[0;34m\u001b[0m\u001b[0m\n\u001b[1;32m     12\u001b[0m \u001b[0;31m# angle 45\u001b[0m\u001b[0;34m\u001b[0m\u001b[0;34m\u001b[0m\u001b[0;34m\u001b[0m\u001b[0m\n\u001b[0;32m---> 13\u001b[0;31m \u001b[0mcv2\u001b[0m\u001b[0;34m.\u001b[0m\u001b[0mimshow\u001b[0m\u001b[0;34m(\u001b[0m\u001b[0;34m\"Rotated\"\u001b[0m\u001b[0;34m,\u001b[0m \u001b[0mRotated_image\u001b[0m\u001b[0;34m)\u001b[0m\u001b[0;34m\u001b[0m\u001b[0;34m\u001b[0m\u001b[0m\n\u001b[0m\u001b[1;32m     14\u001b[0m \u001b[0;34m\u001b[0m\u001b[0m\n\u001b[1;32m     15\u001b[0m \u001b[0;31m# display the image using OpenCV of\u001b[0m\u001b[0;34m\u001b[0m\u001b[0;34m\u001b[0m\u001b[0;34m\u001b[0m\u001b[0m\n",
            "\u001b[0;32m/usr/local/lib/python3.7/dist-packages/google/colab/_import_hooks/_cv2.py\u001b[0m in \u001b[0;36mwrapped\u001b[0;34m(*args, **kwargs)\u001b[0m\n\u001b[1;32m     46\u001b[0m   \u001b[0;32mdef\u001b[0m \u001b[0mwrapped\u001b[0m\u001b[0;34m(\u001b[0m\u001b[0;34m*\u001b[0m\u001b[0margs\u001b[0m\u001b[0;34m,\u001b[0m \u001b[0;34m**\u001b[0m\u001b[0mkwargs\u001b[0m\u001b[0;34m)\u001b[0m\u001b[0;34m:\u001b[0m\u001b[0;34m\u001b[0m\u001b[0;34m\u001b[0m\u001b[0m\n\u001b[1;32m     47\u001b[0m     \u001b[0;32mif\u001b[0m \u001b[0;32mnot\u001b[0m \u001b[0mos\u001b[0m\u001b[0;34m.\u001b[0m\u001b[0menviron\u001b[0m\u001b[0;34m.\u001b[0m\u001b[0mget\u001b[0m\u001b[0;34m(\u001b[0m\u001b[0menv_var\u001b[0m\u001b[0;34m,\u001b[0m \u001b[0;32mFalse\u001b[0m\u001b[0;34m)\u001b[0m\u001b[0;34m:\u001b[0m\u001b[0;34m\u001b[0m\u001b[0;34m\u001b[0m\u001b[0m\n\u001b[0;32m---> 48\u001b[0;31m       \u001b[0;32mraise\u001b[0m \u001b[0mDisabledFunctionError\u001b[0m\u001b[0;34m(\u001b[0m\u001b[0mmessage\u001b[0m\u001b[0;34m,\u001b[0m \u001b[0mname\u001b[0m \u001b[0;32mor\u001b[0m \u001b[0mfunc\u001b[0m\u001b[0;34m.\u001b[0m\u001b[0m__name__\u001b[0m\u001b[0;34m)\u001b[0m\u001b[0;34m\u001b[0m\u001b[0;34m\u001b[0m\u001b[0m\n\u001b[0m\u001b[1;32m     49\u001b[0m     \u001b[0;32mreturn\u001b[0m \u001b[0mfunc\u001b[0m\u001b[0;34m(\u001b[0m\u001b[0;34m*\u001b[0m\u001b[0margs\u001b[0m\u001b[0;34m,\u001b[0m \u001b[0;34m**\u001b[0m\u001b[0mkwargs\u001b[0m\u001b[0;34m)\u001b[0m\u001b[0;34m\u001b[0m\u001b[0;34m\u001b[0m\u001b[0m\n\u001b[1;32m     50\u001b[0m \u001b[0;34m\u001b[0m\u001b[0m\n",
            "\u001b[0;31mDisabledFunctionError\u001b[0m: cv2.imshow() is disabled in Colab, because it causes Jupyter sessions\nto crash; see https://github.com/jupyter/notebook/issues/3935.\nAs a substitution, consider using\n  from google.colab.patches import cv2_imshow\n"
          ]
        }
      ],
      "source": [
        "import cv2  # importing cv\n",
        "import imutils\n",
        " \n",
        " \n",
        "# read an image as input using OpenCV\n",
        "image = cv2.imread(r\"/content/UPC_LOGO_COMPLETO-02-01-004-1.jpg\")\n",
        " \n",
        "Rotated_image = imutils.rotate(image, angle=45)\n",
        "Rotated1_image = imutils.rotate(image, angle=90)\n",
        " \n",
        "# display the image using OpenCV of\n",
        "# angle 45\n",
        "cv2.imshow(\"Rotated\", Rotated_image)\n",
        " \n",
        "# display the image using OpenCV of\n",
        "# angle 90\n",
        "cv2.imshow(\"Rotated\", Rotated1_image)\n",
        " \n",
        "# This is used for To Keep On Displaying\n",
        "# The Image Until Any Key is Pressed\n",
        "cv2.waitKey(0)"
      ]
    }
  ],
  "metadata": {
    "colab": {
      "provenance": []
    },
    "kernelspec": {
      "display_name": "Python 3.9.12 ('tf')",
      "language": "python",
      "name": "python3"
    },
    "language_info": {
      "codemirror_mode": {
        "name": "ipython",
        "version": 3
      },
      "file_extension": ".py",
      "mimetype": "text/x-python",
      "name": "python",
      "nbconvert_exporter": "python",
      "pygments_lexer": "ipython3",
      "version": "3.9.12"
    },
    "vscode": {
      "interpreter": {
        "hash": "887ac75dc2cc3f5c9b6c7d03229781a4721934165547f85f767493abca5ce374"
      }
    }
  },
  "nbformat": 4,
  "nbformat_minor": 0
}
