{
  "cells": [
    {
      "cell_type": "code",
      "execution_count": 15,
      "metadata": {
        "id": "SGA_Acawzb0g"
      },
      "outputs": [],
      "source": [
        "%matplotlib inline"
      ]
    },
    {
      "cell_type": "markdown",
      "metadata": {
        "id": "j9EzcXIlzb0j"
      },
      "source": [
        "\n",
        "[Learn the Basics](intro.html) ||\n",
        "**Quickstart** ||\n",
        "[Tensors](tensorqs_tutorial.html) ||\n",
        "[Datasets & DataLoaders](data_tutorial.html) ||\n",
        "[Transforms](transforms_tutorial.html) ||\n",
        "[Build Model](buildmodel_tutorial.html) ||\n",
        "[Autograd](autogradqs_tutorial.html) ||\n",
        "[Optimization](optimization_tutorial.html) ||\n",
        "[Save & Load Model](saveloadrun_tutorial.html)\n",
        "\n",
        "# Quickstart\n",
        "This section runs through the API for common tasks in machine learning. Refer to the links in each section to dive deeper.\n",
        "\n",
        "## Working with data\n",
        "PyTorch has two [primitives to work with data](https://pytorch.org/docs/stable/data.html):\n",
        "``torch.utils.data.DataLoader`` and ``torch.utils.data.Dataset``.\n",
        "``Dataset`` stores the samples and their corresponding labels, and ``DataLoader`` wraps an iterable around\n",
        "the ``Dataset``.\n"
      ]
    },
    {
      "cell_type": "code",
      "execution_count": 16,
      "metadata": {
        "id": "i1iv9elizb0l"
      },
      "outputs": [],
      "source": [
        "import torch\n",
        "from torch import nn\n",
        "from torch.utils.data import DataLoader\n",
        "from torchvision import datasets\n",
        "from torchvision.transforms import ToTensor"
      ]
    },
    {
      "cell_type": "markdown",
      "metadata": {
        "id": "1D2WNB5Jzb0m"
      },
      "source": [
        "PyTorch offers domain-specific libraries such as [TorchText](https://pytorch.org/text/stable/index.html),\n",
        "[TorchVision](https://pytorch.org/vision/stable/index.html), and [TorchAudio](https://pytorch.org/audio/stable/index.html),\n",
        "all of which include datasets. For this tutorial, we  will be using a TorchVision dataset.\n",
        "\n",
        "The ``torchvision.datasets`` module contains ``Dataset`` objects for many real-world vision data like\n",
        "CIFAR, COCO ([full list here](https://pytorch.org/vision/stable/datasets.html)). In this tutorial, we\n",
        "use the FashionMNIST dataset. Every TorchVision ``Dataset`` includes two arguments: ``transform`` and\n",
        "``target_transform`` to modify the samples and labels respectively.\n",
        "\n"
      ]
    },
    {
      "cell_type": "code",
      "execution_count": 17,
      "metadata": {
        "id": "7Ew-7CIHzb0m"
      },
      "outputs": [],
      "source": [
        "# Download training data from open datasets.\n",
        "training_data = datasets.FashionMNIST(\n",
        "    root=\"data\",\n",
        "    train=True,\n",
        "    download=True,\n",
        "    transform=ToTensor(),\n",
        ")\n",
        "\n",
        "# Download test data from open datasets.\n",
        "test_data = datasets.FashionMNIST(\n",
        "    root=\"data\",\n",
        "    train=False,\n",
        "    download=True,\n",
        "    transform=ToTensor(),\n",
        ")"
      ]
    },
    {
      "cell_type": "markdown",
      "metadata": {
        "id": "L4whxgsVzb0n"
      },
      "source": [
        "We pass the ``Dataset`` as an argument to ``DataLoader``. This wraps an iterable over our dataset, and supports\n",
        "automatic batching, sampling, shuffling and multiprocess data loading. Here we define a batch size of 64, i.e. each element\n",
        "in the dataloader iterable will return a batch of 64 features and labels.\n",
        "\n"
      ]
    },
    {
      "cell_type": "code",
      "execution_count": 18,
      "metadata": {
        "colab": {
          "base_uri": "https://localhost:8080/"
        },
        "id": "E3uEKiYSzb0o",
        "outputId": "78e770d3-7d44-4897-f6fb-2213d32cf448"
      },
      "outputs": [
        {
          "name": "stdout",
          "output_type": "stream",
          "text": [
            "Shape of X [N, C, H, W]: torch.Size([64, 1, 28, 28])\n",
            "Shape of y: torch.Size([64]) torch.int64\n"
          ]
        }
      ],
      "source": [
        "batch_size = 64\n",
        "\n",
        "# Create data loaders.\n",
        "train_dataloader = DataLoader(training_data, batch_size=batch_size)\n",
        "test_dataloader = DataLoader(test_data, batch_size=batch_size)\n",
        "\n",
        "for X, y in test_dataloader:\n",
        "    print(f\"Shape of X [N, C, H, W]: {X.shape}\")\n",
        "    print(f\"Shape of y: {y.shape} {y.dtype}\")\n",
        "    break"
      ]
    },
    {
      "cell_type": "markdown",
      "metadata": {
        "id": "ySrQRIgjzb0o"
      },
      "source": [
        "Read more about [loading data in PyTorch](data_tutorial.html).\n",
        "\n",
        "\n"
      ]
    },
    {
      "cell_type": "markdown",
      "metadata": {
        "id": "8ad1Zih2zb0p"
      },
      "source": [
        "--------------\n",
        "\n",
        "\n"
      ]
    },
    {
      "cell_type": "markdown",
      "metadata": {
        "id": "jWRl9SUJzb0p"
      },
      "source": [
        "## Creating Models\n",
        "To define a neural network in PyTorch, we create a class that inherits\n",
        "from [nn.Module](https://pytorch.org/docs/stable/generated/torch.nn.Module.html). We define the layers of the network\n",
        "in the ``__init__`` function and specify how data will pass through the network in the ``forward`` function. To accelerate\n",
        "operations in the neural network, we move it to the GPU if available.\n",
        "\n"
      ]
    },
    {
      "cell_type": "code",
      "execution_count": 19,
      "metadata": {
        "colab": {
          "base_uri": "https://localhost:8080/"
        },
        "id": "9hiDZ7Sizb0q",
        "outputId": "91788020-25c2-4d54-f994-0061178fd23a"
      },
      "outputs": [
        {
          "name": "stdout",
          "output_type": "stream",
          "text": [
            "Using cuda device\n",
            "NeuralNetwork(\n",
            "  (flatten): Flatten(start_dim=1, end_dim=-1)\n",
            "  (linear_relu_stack): Sequential(\n",
            "    (0): Linear(in_features=784, out_features=512, bias=True)\n",
            "    (1): ReLU()\n",
            "    (2): Linear(in_features=512, out_features=512, bias=True)\n",
            "    (3): ReLU()\n",
            "    (4): Linear(in_features=512, out_features=10, bias=True)\n",
            "  )\n",
            ")\n"
          ]
        }
      ],
      "source": [
        "# Get cpu or gpu device for training.\n",
        "device = \"cuda\" if torch.cuda.is_available() else \"cpu\"\n",
        "print(f\"Using {device} device\")\n",
        "\n",
        "# Define model\n",
        "class NeuralNetwork(nn.Module):\n",
        "    def __init__(self):\n",
        "        super().__init__()\n",
        "        self.flatten = nn.Flatten() #[28x28] = [784]\n",
        "        self.linear_relu_stack = nn.Sequential(\n",
        "            nn.Linear(28*28, 512), #in: 784, out: 512\n",
        "            nn.ReLU(), #transforma los negativos a cero (no cambia la cantidad de neuronas)\n",
        "            nn.Linear(512, 512), #in: 512, out: 512\n",
        "            nn.ReLU(),\n",
        "            nn.Linear(512, 10) #in: 512, out: 10\n",
        "        )\n",
        "\n",
        "    def forward(self, x):\n",
        "        x = self.flatten(x)\n",
        "        logits = self.linear_relu_stack(x)\n",
        "        return logits\n",
        "\n",
        "model = NeuralNetwork().to(device)\n",
        "print(model)"
      ]
    },
    {
      "cell_type": "markdown",
      "metadata": {
        "id": "nGlevZyXzb0q"
      },
      "source": [
        "Read more about [building neural networks in PyTorch](buildmodel_tutorial.html).\n",
        "\n",
        "\n"
      ]
    },
    {
      "cell_type": "markdown",
      "metadata": {
        "id": "BZamgh1tzb0r"
      },
      "source": [
        "--------------\n",
        "\n",
        "\n"
      ]
    },
    {
      "cell_type": "markdown",
      "metadata": {
        "id": "-V84-tkRzb0r"
      },
      "source": [
        "## Optimizing the Model Parameters\n",
        "To train a model, we need a [loss function](https://pytorch.org/docs/stable/nn.html#loss-functions)\n",
        "and an [optimizer](https://pytorch.org/docs/stable/optim.html).\n",
        "\n"
      ]
    },
    {
      "cell_type": "code",
      "execution_count": 20,
      "metadata": {
        "id": "QI5sDbMXzb0r"
      },
      "outputs": [],
      "source": [
        "loss_fn = nn.CrossEntropyLoss()\n",
        "optimizer = torch.optim.SGD(model.parameters(), lr=1e-3)"
      ]
    },
    {
      "cell_type": "markdown",
      "metadata": {
        "id": "GiWyUjw3zb0s"
      },
      "source": [
        "In a single training loop, the model makes predictions on the training dataset (fed to it in batches), and\n",
        "backpropagates the prediction error to adjust the model's parameters.\n",
        "\n"
      ]
    },
    {
      "cell_type": "code",
      "execution_count": 21,
      "metadata": {
        "id": "CTIncv2mzb0s"
      },
      "outputs": [],
      "source": [
        "def train(dataloader, model, loss_fn, optimizer):\n",
        "    size = len(dataloader.dataset)\n",
        "    model.train()\n",
        "    for batch, (X, y) in enumerate(dataloader):\n",
        "        X, y = X.to(device), y.to(device)\n",
        "\n",
        "        # Compute prediction error\n",
        "        pred = model(X) \n",
        "        #[ob1, ob2, obj10]\n",
        "        #[0.1, 0.02, 0.5]\n",
        "        loss = loss_fn(pred, y)\n",
        "\n",
        "        # Backpropagation\n",
        "        optimizer.zero_grad()\n",
        "        loss.backward()\n",
        "        optimizer.step()\n",
        "\n",
        "        if batch % 100 == 0:\n",
        "            loss, current = loss.item(), batch * len(X)\n",
        "            print(f\"loss: {loss:>7f}  [{current:>5d}/{size:>5d}]\")"
      ]
    },
    {
      "cell_type": "markdown",
      "metadata": {
        "id": "uOmfkPnkzb0s"
      },
      "source": [
        "We also check the model's performance against the test dataset to ensure it is learning.\n",
        "\n"
      ]
    },
    {
      "cell_type": "code",
      "execution_count": 22,
      "metadata": {
        "id": "qbUCpuxRzb0s"
      },
      "outputs": [],
      "source": [
        "def test(dataloader, model, loss_fn):\n",
        "    size = len(dataloader.dataset)\n",
        "    num_batches = len(dataloader)\n",
        "    model.eval()\n",
        "    test_loss, correct = 0, 0\n",
        "    with torch.no_grad():\n",
        "        for X, y in dataloader:\n",
        "            X, y = X.to(device), y.to(device)\n",
        "            pred = model(X)\n",
        "            test_loss += loss_fn(pred, y).item()\n",
        "            correct += (pred.argmax(1) == y).type(torch.float).sum().item()\n",
        "    test_loss /= num_batches\n",
        "    correct /= size\n",
        "    print(f\"Test Error: \\n Accuracy: {(100*correct):>0.1f}%, Avg loss: {test_loss:>8f} \\n\")"
      ]
    },
    {
      "cell_type": "markdown",
      "metadata": {
        "id": "JdELvEOjzb0t"
      },
      "source": [
        "The training process is conducted over several iterations (*epochs*). During each epoch, the model learns\n",
        "parameters to make better predictions. We print the model's accuracy and loss at each epoch; we'd like to see the\n",
        "accuracy increase and the loss decrease with every epoch.\n",
        "\n"
      ]
    },
    {
      "cell_type": "code",
      "execution_count": 23,
      "metadata": {
        "colab": {
          "base_uri": "https://localhost:8080/"
        },
        "id": "0AG2_OvNzb0t",
        "outputId": "e54b71c2-7bf9-4a9e-8122-69124549349b"
      },
      "outputs": [
        {
          "name": "stdout",
          "output_type": "stream",
          "text": [
            "Epoch 1\n",
            "-------------------------------\n",
            "loss: 2.300205  [    0/60000]\n",
            "loss: 2.298199  [ 6400/60000]\n",
            "loss: 2.281280  [12800/60000]\n",
            "loss: 2.281791  [19200/60000]\n",
            "loss: 2.270646  [25600/60000]\n",
            "loss: 2.230063  [32000/60000]\n",
            "loss: 2.245820  [38400/60000]\n",
            "loss: 2.205594  [44800/60000]\n",
            "loss: 2.205916  [51200/60000]\n",
            "loss: 2.186246  [57600/60000]\n",
            "Test Error: \n",
            " Accuracy: 33.9%, Avg loss: 2.179274 \n",
            "\n",
            "Epoch 2\n",
            "-------------------------------\n",
            "loss: 2.176876  [    0/60000]\n",
            "loss: 2.179359  [ 6400/60000]\n",
            "loss: 2.127980  [12800/60000]\n",
            "loss: 2.152221  [19200/60000]\n",
            "loss: 2.114960  [25600/60000]\n",
            "loss: 2.039907  [32000/60000]\n",
            "loss: 2.082735  [38400/60000]\n",
            "loss: 1.999509  [44800/60000]\n",
            "loss: 2.010052  [51200/60000]\n",
            "loss: 1.951178  [57600/60000]\n",
            "Test Error: \n",
            " Accuracy: 50.1%, Avg loss: 1.945627 \n",
            "\n",
            "Epoch 3\n",
            "-------------------------------\n",
            "loss: 1.963563  [    0/60000]\n",
            "loss: 1.946700  [ 6400/60000]\n",
            "loss: 1.836533  [12800/60000]\n",
            "loss: 1.883628  [19200/60000]\n",
            "loss: 1.790086  [25600/60000]\n",
            "loss: 1.716448  [32000/60000]\n",
            "loss: 1.758590  [38400/60000]\n",
            "loss: 1.645241  [44800/60000]\n",
            "loss: 1.678399  [51200/60000]\n",
            "loss: 1.582354  [57600/60000]\n",
            "Test Error: \n",
            " Accuracy: 57.0%, Avg loss: 1.588064 \n",
            "\n",
            "Epoch 4\n",
            "-------------------------------\n",
            "loss: 1.642646  [    0/60000]\n",
            "loss: 1.611264  [ 6400/60000]\n",
            "loss: 1.461853  [12800/60000]\n",
            "loss: 1.540905  [19200/60000]\n",
            "loss: 1.431355  [25600/60000]\n",
            "loss: 1.401722  [32000/60000]\n",
            "loss: 1.431134  [38400/60000]\n",
            "loss: 1.343266  [44800/60000]\n",
            "loss: 1.388169  [51200/60000]\n",
            "loss: 1.290965  [57600/60000]\n",
            "Test Error: \n",
            " Accuracy: 62.3%, Avg loss: 1.308884 \n",
            "\n",
            "Epoch 5\n",
            "-------------------------------\n",
            "loss: 1.379625  [    0/60000]\n",
            "loss: 1.359814  [ 6400/60000]\n",
            "loss: 1.197242  [12800/60000]\n",
            "loss: 1.305961  [19200/60000]\n",
            "loss: 1.190153  [25600/60000]\n",
            "loss: 1.193894  [32000/60000]\n",
            "loss: 1.221864  [38400/60000]\n",
            "loss: 1.154054  [44800/60000]\n",
            "loss: 1.201589  [51200/60000]\n",
            "loss: 1.115692  [57600/60000]\n",
            "Test Error: \n",
            " Accuracy: 64.2%, Avg loss: 1.131623 \n",
            "\n",
            "Epoch 6\n",
            "-------------------------------\n",
            "loss: 1.200772  [    0/60000]\n",
            "loss: 1.197598  [ 6400/60000]\n",
            "loss: 1.020005  [12800/60000]\n",
            "loss: 1.156075  [19200/60000]\n",
            "loss: 1.034491  [25600/60000]\n",
            "loss: 1.051455  [32000/60000]\n",
            "loss: 1.090292  [38400/60000]\n",
            "loss: 1.030391  [44800/60000]\n",
            "loss: 1.079426  [51200/60000]\n",
            "loss: 1.003294  [57600/60000]\n",
            "Test Error: \n",
            " Accuracy: 65.4%, Avg loss: 1.014594 \n",
            "\n",
            "Epoch 7\n",
            "-------------------------------\n",
            "loss: 1.074767  [    0/60000]\n",
            "loss: 1.090584  [ 6400/60000]\n",
            "loss: 0.896137  [12800/60000]\n",
            "loss: 1.053958  [19200/60000]\n",
            "loss: 0.932943  [25600/60000]\n",
            "loss: 0.948841  [32000/60000]\n",
            "loss: 1.003700  [38400/60000]\n",
            "loss: 0.947673  [44800/60000]\n",
            "loss: 0.994539  [51200/60000]\n",
            "loss: 0.927074  [57600/60000]\n",
            "Test Error: \n",
            " Accuracy: 66.7%, Avg loss: 0.934252 \n",
            "\n",
            "Epoch 8\n",
            "-------------------------------\n",
            "loss: 0.981058  [    0/60000]\n",
            "loss: 1.016020  [ 6400/60000]\n",
            "loss: 0.806873  [12800/60000]\n",
            "loss: 0.981340  [19200/60000]\n",
            "loss: 0.864250  [25600/60000]\n",
            "loss: 0.873138  [32000/60000]\n",
            "loss: 0.943703  [38400/60000]\n",
            "loss: 0.891626  [44800/60000]\n",
            "loss: 0.933166  [51200/60000]\n",
            "loss: 0.872495  [57600/60000]\n",
            "Test Error: \n",
            " Accuracy: 67.6%, Avg loss: 0.876739 \n",
            "\n",
            "Epoch 9\n",
            "-------------------------------\n",
            "loss: 0.908903  [    0/60000]\n",
            "loss: 0.960288  [ 6400/60000]\n",
            "loss: 0.740368  [12800/60000]\n",
            "loss: 0.927646  [19200/60000]\n",
            "loss: 0.815402  [25600/60000]\n",
            "loss: 0.815993  [32000/60000]\n",
            "loss: 0.899352  [38400/60000]\n",
            "loss: 0.852480  [44800/60000]\n",
            "loss: 0.887405  [51200/60000]\n",
            "loss: 0.831185  [57600/60000]\n",
            "Test Error: \n",
            " Accuracy: 68.9%, Avg loss: 0.833571 \n",
            "\n",
            "Epoch 10\n",
            "-------------------------------\n",
            "loss: 0.851478  [    0/60000]\n",
            "loss: 0.915859  [ 6400/60000]\n",
            "loss: 0.689055  [12800/60000]\n",
            "loss: 0.886256  [19200/60000]\n",
            "loss: 0.778800  [25600/60000]\n",
            "loss: 0.771940  [32000/60000]\n",
            "loss: 0.864102  [38400/60000]\n",
            "loss: 0.823779  [44800/60000]\n",
            "loss: 0.852156  [51200/60000]\n",
            "loss: 0.798356  [57600/60000]\n",
            "Test Error: \n",
            " Accuracy: 70.1%, Avg loss: 0.799706 \n",
            "\n",
            "Done!\n"
          ]
        }
      ],
      "source": [
        "epochs = 10\n",
        "for t in range(epochs):\n",
        "    print(f\"Epoch {t+1}\\n-------------------------------\")\n",
        "    train(train_dataloader, model, loss_fn, optimizer)\n",
        "    test(test_dataloader, model, loss_fn)\n",
        "print(\"Done!\")"
      ]
    },
    {
      "cell_type": "markdown",
      "metadata": {
        "id": "ZWPge4t-zb0t"
      },
      "source": [
        "Read more about [Training your model](optimization_tutorial.html).\n",
        "\n",
        "\n"
      ]
    },
    {
      "cell_type": "markdown",
      "metadata": {
        "id": "QUkSWLaRzb0t"
      },
      "source": [
        "--------------\n",
        "\n",
        "\n"
      ]
    },
    {
      "cell_type": "markdown",
      "metadata": {
        "id": "azL5vaKNzb0u"
      },
      "source": [
        "## Saving Models\n",
        "A common way to save a model is to serialize the internal state dictionary (containing the model parameters).\n",
        "\n"
      ]
    },
    {
      "cell_type": "code",
      "execution_count": 27,
      "metadata": {
        "colab": {
          "base_uri": "https://localhost:8080/"
        },
        "id": "9YiCmRoZzb0u",
        "outputId": "57f97992-1ece-4621-b1b5-c1644c8a3527"
      },
      "outputs": [
        {
          "name": "stdout",
          "output_type": "stream",
          "text": [
            "Saved PyTorch Model State to model.pth\n"
          ]
        }
      ],
      "source": [
        "torch.save(model.state_dict(), \"model.pth\")\n",
        "print(\"Saved PyTorch Model State to model.pth\")"
      ]
    },
    {
      "cell_type": "markdown",
      "metadata": {
        "id": "7nkqbqG5zb0u"
      },
      "source": [
        "## Loading Models\n",
        "\n",
        "The process for loading a model includes re-creating the model structure and loading\n",
        "the state dictionary into it.\n",
        "\n"
      ]
    },
    {
      "cell_type": "code",
      "execution_count": 25,
      "metadata": {
        "colab": {
          "base_uri": "https://localhost:8080/"
        },
        "id": "NN0F3GbKzb0u",
        "outputId": "b15f5dfb-ed8c-417c-efc7-03efe6d7c670"
      },
      "outputs": [
        {
          "data": {
            "text/plain": [
              "<All keys matched successfully>"
            ]
          },
          "execution_count": 25,
          "metadata": {},
          "output_type": "execute_result"
        }
      ],
      "source": [
        "model = NeuralNetwork()\n",
        "model.load_state_dict(torch.load(\"model.pth\"))"
      ]
    },
    {
      "cell_type": "markdown",
      "metadata": {
        "id": "_zPaXjBozb0u"
      },
      "source": [
        "This model can now be used to make predictions.\n",
        "\n"
      ]
    },
    {
      "cell_type": "code",
      "execution_count": 28,
      "metadata": {
        "colab": {
          "base_uri": "https://localhost:8080/"
        },
        "id": "5jpl43Wqzb0u",
        "outputId": "25e4481d-26e6-4d29-d2f3-9d30918383cc"
      },
      "outputs": [
        {
          "name": "stdout",
          "output_type": "stream",
          "text": [
            "Predicted: \"Trouser\", Actual: \"Trouser\"\n"
          ]
        }
      ],
      "source": [
        "classes = [\n",
        "    \"T-shirt/top\",\n",
        "    \"Trouser\",\n",
        "    \"Pullover\",\n",
        "    \"Dress\",\n",
        "    \"Coat\",\n",
        "    \"Sandal\",\n",
        "    \"Shirt\",\n",
        "    \"Sneaker\",\n",
        "    \"Bag\",\n",
        "    \"Ankle boot\",\n",
        "]\n",
        "\n",
        "model.eval()\n",
        "x, y = test_data[2][0], test_data[2][1]\n",
        "with torch.no_grad():\n",
        "    pred = model(x)\n",
        "    predicted, actual = classes[pred[0].argmax(0)], classes[y]\n",
        "    print(f'Predicted: \"{predicted}\", Actual: \"{actual}\"')"
      ]
    },
    {
      "cell_type": "markdown",
      "metadata": {
        "id": "hKKRu49lzb0v"
      },
      "source": [
        "Read more about [Saving & Loading your model](saveloadrun_tutorial.html).\n",
        "\n",
        "\n"
      ]
    }
  ],
  "metadata": {
    "accelerator": "GPU",
    "colab": {
      "provenance": []
    },
    "gpuClass": "standard",
    "kernelspec": {
      "display_name": "Python 3.9.12 ('base')",
      "language": "python",
      "name": "python3"
    },
    "language_info": {
      "codemirror_mode": {
        "name": "ipython",
        "version": 3
      },
      "file_extension": ".py",
      "mimetype": "text/x-python",
      "name": "python",
      "nbconvert_exporter": "python",
      "pygments_lexer": "ipython3",
      "version": "3.9.12"
    },
    "vscode": {
      "interpreter": {
        "hash": "800bad6f136d2d51b7de2df7eba1a5d793412d20ae0780ffadc5ca2f7ac5d192"
      }
    }
  },
  "nbformat": 4,
  "nbformat_minor": 0
}
